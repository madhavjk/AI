{
 "cells": [
  {
   "cell_type": "markdown",
   "metadata": {
    "colab_type": "text",
    "id": "7fjcTlyE3WvR"
   },
   "source": [
    "#A Positional Encoding Example\n",
    "Copyright 2020 Denis Rothman, MIT License\n",
    "\n",
    "Reference 1 for Positional Encoding:\n",
    "Attention is All You Need paper, page 6,Google Brain and Google Research\n",
    "\n",
    "\n",
    "Reference 2 for word embedding:\n",
    "https://www.geeksforgeeks.org/python-word-embedding-using-word2vec/\n",
    "Reference 3 for cosine similarity:\n",
    "SciKit Learn cosine similarity documentation\n"
   ]
  },
  {
   "cell_type": "code",
   "execution_count": 19,
   "metadata": {
    "colab": {
     "base_uri": "https://localhost:8080/",
     "height": 401
    },
    "colab_type": "code",
    "id": "JKJ8Saf6vR9b",
    "outputId": "66f88a56-0cbb-4f09-d5ff-538becbb13fa"
   },
   "outputs": [
    {
     "name": "stdout",
     "output_type": "stream",
     "text": [
      "Requirement already up-to-date: gensim in /usr/local/lib/python3.6/dist-packages (3.8.3)\n",
      "Requirement already satisfied, skipping upgrade: six>=1.5.0 in /usr/local/lib/python3.6/dist-packages (from gensim) (1.12.0)\n",
      "Requirement already satisfied, skipping upgrade: smart-open>=1.8.1 in /usr/local/lib/python3.6/dist-packages (from gensim) (2.0.0)\n",
      "Requirement already satisfied, skipping upgrade: scipy>=0.18.1 in /usr/local/lib/python3.6/dist-packages (from gensim) (1.4.1)\n",
      "Requirement already satisfied, skipping upgrade: numpy>=1.11.3 in /usr/local/lib/python3.6/dist-packages (from gensim) (1.18.4)\n",
      "Requirement already satisfied, skipping upgrade: requests in /usr/local/lib/python3.6/dist-packages (from smart-open>=1.8.1->gensim) (2.23.0)\n",
      "Requirement already satisfied, skipping upgrade: boto3 in /usr/local/lib/python3.6/dist-packages (from smart-open>=1.8.1->gensim) (1.13.10)\n",
      "Requirement already satisfied, skipping upgrade: boto in /usr/local/lib/python3.6/dist-packages (from smart-open>=1.8.1->gensim) (2.49.0)\n",
      "Requirement already satisfied, skipping upgrade: urllib3!=1.25.0,!=1.25.1,<1.26,>=1.21.1 in /usr/local/lib/python3.6/dist-packages (from requests->smart-open>=1.8.1->gensim) (1.24.3)\n",
      "Requirement already satisfied, skipping upgrade: idna<3,>=2.5 in /usr/local/lib/python3.6/dist-packages (from requests->smart-open>=1.8.1->gensim) (2.9)\n",
      "Requirement already satisfied, skipping upgrade: certifi>=2017.4.17 in /usr/local/lib/python3.6/dist-packages (from requests->smart-open>=1.8.1->gensim) (2020.4.5.1)\n",
      "Requirement already satisfied, skipping upgrade: chardet<4,>=3.0.2 in /usr/local/lib/python3.6/dist-packages (from requests->smart-open>=1.8.1->gensim) (3.0.4)\n",
      "Requirement already satisfied, skipping upgrade: botocore<1.17.0,>=1.16.10 in /usr/local/lib/python3.6/dist-packages (from boto3->smart-open>=1.8.1->gensim) (1.16.10)\n",
      "Requirement already satisfied, skipping upgrade: jmespath<1.0.0,>=0.7.1 in /usr/local/lib/python3.6/dist-packages (from boto3->smart-open>=1.8.1->gensim) (0.10.0)\n",
      "Requirement already satisfied, skipping upgrade: s3transfer<0.4.0,>=0.3.0 in /usr/local/lib/python3.6/dist-packages (from boto3->smart-open>=1.8.1->gensim) (0.3.3)\n",
      "Requirement already satisfied, skipping upgrade: docutils<0.16,>=0.10 in /usr/local/lib/python3.6/dist-packages (from botocore<1.17.0,>=1.16.10->boto3->smart-open>=1.8.1->gensim) (0.15.2)\n",
      "Requirement already satisfied, skipping upgrade: python-dateutil<3.0.0,>=2.1 in /usr/local/lib/python3.6/dist-packages (from botocore<1.17.0,>=1.16.10->boto3->smart-open>=1.8.1->gensim) (2.8.1)\n",
      "[nltk_data] Downloading package punkt to /root/nltk_data...\n",
      "[nltk_data]   Package punkt is already up-to-date!\n"
     ]
    },
    {
     "data": {
      "text/plain": [
       "True"
      ]
     },
     "execution_count": 19,
     "metadata": {
      "tags": []
     },
     "output_type": "execute_result"
    }
   ],
   "source": [
    "!pip install --upgrade gensim\n",
    "import torch\n",
    "import nltk\n",
    "nltk.download('punkt')"
   ]
  },
  {
   "cell_type": "markdown",
   "metadata": {
    "colab_type": "text",
    "id": "PGXgeOyS5qBP"
   },
   "source": [
    "# upload to the text.txt file to Google Colaboratory using the file manager "
   ]
  },
  {
   "cell_type": "code",
   "execution_count": 0,
   "metadata": {
    "colab": {},
    "colab_type": "code",
    "id": "7o7EeDUUu0Sh"
   },
   "outputs": [],
   "source": [
    "import math\n",
    "import numpy as np\n",
    "from nltk.tokenize import sent_tokenize, word_tokenize \n",
    "import gensim \n",
    "from gensim.models import Word2Vec \n",
    "import numpy as np\n",
    "from sklearn.metrics.pairwise import cosine_similarity\n",
    "import matplotlib.pyplot as plt\n",
    "import warnings \n",
    "warnings.filterwarnings(action = 'ignore') \n",
    "\n",
    "\n",
    "dprint=0 # prints outputs if set to 1, default=0\n",
    "\n",
    "#‘text.txt’ file \n",
    "sample = open(\"text.txt\", \"r\") \n",
    "s = sample.read() \n",
    "\n",
    "# processing escape characters \n",
    "f = s.replace(\"\\n\", \" \") \n",
    "\n",
    "data = [] \n",
    "\n",
    "# sentence parsing \n",
    "for i in sent_tokenize(f): \n",
    "\ttemp = [] \n",
    "\t# tokenize the sentence into words \n",
    "\tfor j in word_tokenize(i): \n",
    "\t\ttemp.append(j.lower()) \n",
    "\tdata.append(temp) \n",
    "\n",
    "# Creating Skip Gram model \n",
    "model2 = gensim.models.Word2Vec(data, min_count = 1, size = 512,window = 5, sg = 1) \n",
    "\n",
    "# 1-The 2-black 3-cat 4-sat 5-on 6-the 7-couch 8-and 9-the 10-brown 11-dog 12-slept 13-on 14-the 15-rug.\n",
    "word1='black'\n",
    "word2='brown'\n",
    "pos1=2\n",
    "pos2=10\n",
    "a=model2[word1]\n",
    "b=model2[word2]\n",
    "\n",
    "if(dprint==1):\n",
    "        print(a)\n",
    "\n",
    "# compute cosine similarity\n",
    "dot = np.dot(a, b)\n",
    "norma = np.linalg.norm(a)\n",
    "normb = np.linalg.norm(b)\n",
    "cos = dot / (norma * normb)\n",
    "\n",
    "aa = a.reshape(1,512) \n",
    "ba = b.reshape(1,512)\n",
    "cos_lib = cosine_similarity(aa, ba)"
   ]
  },
  {
   "cell_type": "markdown",
   "metadata": {
    "colab_type": "text",
    "id": "xlTeXmatz7bP"
   },
   "source": [
    "A Positional Encoding example using one line of basic Python using a few lines of code for the sine and cosine functions.\n",
    "I added a Pytorch method inspired by Pytorch.org to explore these methods.\n",
    "The main idea to keep in mind is that we are looking to add small values to the word embedding output so that the positions are taken into account. This means that as long as the cosine similarity, for example, displayed at the end of the notebook, shows the positions have been taken into account, the method can apply. Depending on the Transformer model, this method can be fine-tuned as well as using other methods.  "
   ]
  },
  {
   "cell_type": "code",
   "execution_count": 0,
   "metadata": {
    "colab": {},
    "colab_type": "code",
    "id": "EmBUq9MzxQxz"
   },
   "outputs": [],
   "source": [
    "pe1=aa.copy()\n",
    "pe2=aa.copy()\n",
    "pe3=aa.copy()\n",
    "paa=aa.copy()\n",
    "pba=ba.copy()\n",
    "d_model=512\n",
    "max_print=d_model\n",
    "max_length=20\n",
    "\n",
    "for i in range(0, max_print,2):\n",
    "                pe1[0][i] = math.sin(pos1 / (10000 ** ((2 * i)/d_model)))\n",
    "                paa[0][i] = (paa[0][i]*math.sqrt(d_model))+ pe1[0][i]\n",
    "                pe1[0][i+1] = math.cos(pos1 / (10000 ** ((2 * i)/d_model)))\n",
    "                paa[0][i+1] = (paa[0][i+1]*math.sqrt(d_model))+pe1[0][i+1]\n",
    "                if dprint==1:\n",
    "                        print(i,pe1[0][i],i+1,pe1[0][i+1])\n",
    "                        print(i,paa[0][i],i+1,paa[0][i+1])\n",
    "                        print(\"\\n\")\n",
    "\n",
    "#print(pe1)\n",
    "# A  method in Pytorch using torch.exp and math.log :\n",
    "max_len=max_length                \n",
    "pe = torch.zeros(max_len, d_model)\n",
    "position = torch.arange(0, max_len, dtype=torch.float).unsqueeze(1)\n",
    "div_term = torch.exp(torch.arange(0, d_model, 2).float() * (-math.log(10000.0) / d_model))\n",
    "pe[:, 0::2] = torch.sin(position * div_term)\n",
    "pe[:, 1::2] = torch.cos(position * div_term)\n",
    "#print(pe[:, 0::2])"
   ]
  },
  {
   "cell_type": "code",
   "execution_count": 22,
   "metadata": {
    "colab": {
     "base_uri": "https://localhost:8080/",
     "height": 90
    },
    "colab_type": "code",
    "id": "pgrXed2FwHDC",
    "outputId": "c609aac6-0004-48fd-cc22-c2c728b8903e"
   },
   "outputs": [
    {
     "name": "stdout",
     "output_type": "stream",
     "text": [
      "black brown\n",
      "[[0.9998718]] word similarity\n",
      "[[0.8600013]] positional similarity\n",
      "[[0.96424025]] positional encoding similarity\n"
     ]
    }
   ],
   "source": [
    "\n",
    "for i in range(0, max_print,2):\n",
    "                pe2[0][i] = math.sin(pos2 / (10000 ** ((2 * i)/d_model)))\n",
    "                pba[0][i] = (pba[0][i]*math.sqrt(d_model))+ pe2[0][i]\n",
    "            \n",
    "                pe2[0][i+1] = math.cos(pos2 / (10000 ** ((2 * i)/d_model)))\n",
    "                pba[0][i+1] = (pba[0][i+1]*math.sqrt(d_model))+ pe2[0][i+1]\n",
    "               \n",
    "                if dprint==1:\n",
    "                        print(i,pe2[0][i],i+1,pe2[0][i+1])\n",
    "                        print(i,paa[0][i],i+1,paa[0][i+1])\n",
    "                        print(\"\\n\")\n",
    "\n",
    "print(word1,word2)\n",
    "cos_lib = cosine_similarity(aa, ba)\n",
    "print(cos_lib,\"word similarity\")\n",
    "cos_lib = cosine_similarity(pe1, pe2)\n",
    "print(cos_lib,\"positional similarity\")\n",
    "cos_lib = cosine_similarity(paa, pba)\n",
    "print(cos_lib,\"positional encoding similarity\")\n",
    "\n",
    "if dprint==1:\n",
    "        print(word1)\n",
    "        print(\"embedding\")\n",
    "        print(aa)\n",
    "        print(\"positional encoding\")\n",
    "        print(pe1)\n",
    "        print(\"encoded embedding\")\n",
    "        print(paa)\n",
    "\n",
    "        print(word2)\n",
    "        print(\"embedding\")\n",
    "        print(ba)\n",
    "        print(\"positional encoding\")\n",
    "        print(pe2)\n",
    "        print(\"encoded embedding\")\n",
    "        print(pba)\n",
    "\n"
   ]
  }
 ],
 "metadata": {
  "colab": {
   "collapsed_sections": [],
   "name": "positional_encoding.ipynb",
   "provenance": []
  },
  "kernelspec": {
   "display_name": "Python 3",
   "language": "python",
   "name": "python3"
  },
  "language_info": {
   "codemirror_mode": {
    "name": "ipython",
    "version": 3
   },
   "file_extension": ".py",
   "mimetype": "text/x-python",
   "name": "python",
   "nbconvert_exporter": "python",
   "pygments_lexer": "ipython3",
   "version": "3.8.3"
  }
 },
 "nbformat": 4,
 "nbformat_minor": 1
}
